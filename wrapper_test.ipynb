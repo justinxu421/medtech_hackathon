{
 "cells": [
  {
   "cell_type": "code",
   "execution_count": 1,
   "metadata": {},
   "outputs": [],
   "source": [
    "import numpy as np\n",
    "import os, os.path\n",
    "import PIL\n",
    "from wrapper import XRAY\n",
    "from split import split_data"
   ]
  },
  {
   "cell_type": "code",
   "execution_count": 2,
   "metadata": {},
   "outputs": [],
   "source": [
    "image_folder = 'images'\n",
    "label_path = 'Data_Entry_2017.csv'\n",
    "images = os.listdir(image_folder)"
   ]
  },
  {
   "cell_type": "code",
   "execution_count": 3,
   "metadata": {},
   "outputs": [
    {
     "name": "stdout",
     "output_type": "stream",
     "text": [
      "[('00000001_000.png', 2.0), ('00000001_001.png', 1.0), ('00000001_002.png', 2.0), ('00000002_000.png', 0.0), ('00000003_000.png', 0.0)]\n",
      "num experiments is 4999\n"
     ]
    },
    {
     "name": "stderr",
     "output_type": "stream",
     "text": [
      "C:\\Users\\Justin Xu\\Anaconda3\\envs\\cs231\\lib\\site-packages\\sklearn\\model_selection\\_split.py:2026: FutureWarning: From version 0.21, test_size will always complement train_size unless both are specified.\n",
      "  FutureWarning)\n"
     ]
    }
   ],
   "source": [
    "train_filenames, val_filenames, test_filenames = split_data(label_path)"
   ]
  },
  {
   "cell_type": "code",
   "execution_count": 4,
   "metadata": {},
   "outputs": [
    {
     "name": "stdout",
     "output_type": "stream",
     "text": [
      "3499\n",
      "750\n",
      "750\n"
     ]
    }
   ],
   "source": [
    "print(len(train_filenames))\n",
    "print(len(val_filenames))\n",
    "print(len(test_filenames))"
   ]
  },
  {
   "cell_type": "code",
   "execution_count": 5,
   "metadata": {},
   "outputs": [
    {
     "name": "stdout",
     "output_type": "stream",
     "text": [
      "[('00000814_007.png', 0.0), ('00000013_006.png', 2.0), ('00001081_002.png', 0.0), ('00000522_003.png', 0.0), ('00001226_002.png', 2.0)]\n"
     ]
    }
   ],
   "source": [
    "print(train_filenames[:5])"
   ]
  },
  {
   "cell_type": "code",
   "execution_count": 6,
   "metadata": {},
   "outputs": [],
   "source": [
    "train_dataset = XRAY(image_folder, train_filenames)"
   ]
  },
  {
   "cell_type": "code",
   "execution_count": 11,
   "metadata": {},
   "outputs": [
    {
     "name": "stdout",
     "output_type": "stream",
     "text": [
      "(tensor([[[-1.9059, -1.9059, -1.9059,  ..., -1.9216, -1.9216, -1.9216],\n",
      "         [-1.9059, -1.9059, -1.9059,  ..., -1.9216, -1.9216, -1.9216],\n",
      "         [-1.9059, -1.9059, -1.9216,  ..., -1.9216, -1.9216, -1.9216],\n",
      "         ...,\n",
      "         [-1.6706, -1.6235, -1.5922,  ..., -0.3059, -0.4471, -0.6196],\n",
      "         [-1.6863, -1.6549, -1.5765,  ..., -0.3373, -0.5098, -0.6980],\n",
      "         [-1.7020, -1.6706, -1.6235,  ..., -0.4157, -0.5569, -0.7294]]]), 0.0)\n",
      "3499\n"
     ]
    }
   ],
   "source": [
    "print(train_dataset[0])\n",
    "print(len(train_dataset))"
   ]
  }
 ],
 "metadata": {
  "kernelspec": {
   "display_name": "Python 3",
   "language": "python",
   "name": "python3"
  },
  "language_info": {
   "codemirror_mode": {
    "name": "ipython",
    "version": 3
   },
   "file_extension": ".py",
   "mimetype": "text/x-python",
   "name": "python",
   "nbconvert_exporter": "python",
   "pygments_lexer": "ipython3",
   "version": "3.6.4"
  }
 },
 "nbformat": 4,
 "nbformat_minor": 2
}
