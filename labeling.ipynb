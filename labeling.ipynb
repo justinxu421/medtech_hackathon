{
 "cells": [
  {
   "cell_type": "code",
   "execution_count": 1,
   "metadata": {},
   "outputs": [],
   "source": [
    "import os, os.path\n",
    "import numpy as np"
   ]
  },
  {
   "cell_type": "code",
   "execution_count": 2,
   "metadata": {},
   "outputs": [],
   "source": [
    "image_folder = 'images'\n",
    "label_path = 'Data_Entry_2017.csv'"
   ]
  },
  {
   "cell_type": "code",
   "execution_count": 9,
   "metadata": {
    "scrolled": true
   },
   "outputs": [],
   "source": [
    "labels = np.genfromtxt(label_path, dtype=str, skip_header = 1, delimiter = ',', max_rows = 5000)"
   ]
  },
  {
   "cell_type": "code",
   "execution_count": 10,
   "metadata": {},
   "outputs": [
    {
     "name": "stdout",
     "output_type": "stream",
     "text": [
      "4999\n",
      "['00000001_000.png', '00000001_001.png', '00000001_002.png', '00000002_000.png', '00000003_000.png']\n"
     ]
    }
   ],
   "source": [
    "lst = os.listdir(image_folder)\n",
    "print(len(lst))\n",
    "print(lst[:5])"
   ]
  },
  {
   "cell_type": "code",
   "execution_count": 11,
   "metadata": {},
   "outputs": [
    {
     "name": "stdout",
     "output_type": "stream",
     "text": [
      "(5000, 11)\n",
      "[['00000001_000.png' 'Cardiomegaly' '0' '1' '58' 'M' 'PA' '2682' '2749'\n",
      "  '0.143' '0.143']\n",
      " ['00000001_001.png' 'Cardiomegaly|Emphysema' '1' '1' '58' 'M' 'PA'\n",
      "  '2894' '2729' '0.143' '0.143']\n",
      " ['00000001_002.png' 'Cardiomegaly|Effusion' '2' '1' '58' 'M' 'PA' '2500'\n",
      "  '2048' '0.168' '0.168']\n",
      " ['00000002_000.png' 'No Finding' '0' '2' '81' 'M' 'PA' '2500' '2048'\n",
      "  '0.171' '0.171']\n",
      " ['00000003_000.png' 'Hernia' '0' '3' '81' 'F' 'PA' '2582' '2991' '0.143'\n",
      "  '0.143']]\n"
     ]
    }
   ],
   "source": [
    "print(labels.shape)\n",
    "print(labels[:5])"
   ]
  },
  {
   "cell_type": "code",
   "execution_count": 7,
   "metadata": {},
   "outputs": [],
   "source": [
    "adjusted_labels = [(entry[0], entry[1].split('|')) for entry in labels]"
   ]
  },
  {
   "cell_type": "code",
   "execution_count": 8,
   "metadata": {},
   "outputs": [
    {
     "name": "stdout",
     "output_type": "stream",
     "text": [
      "[('00000001_000.png', ['Cardiomegaly']), ('00000001_001.png', ['Cardiomegaly', 'Emphysema']), ('00000001_002.png', ['Cardiomegaly', 'Effusion']), ('00000002_000.png', ['No Finding']), ('00000003_000.png', ['Hernia'])]\n"
     ]
    }
   ],
   "source": [
    "print(adjusted_labels[:5])"
   ]
  },
  {
   "cell_type": "code",
   "execution_count": 15,
   "metadata": {},
   "outputs": [
    {
     "name": "stdout",
     "output_type": "stream",
     "text": [
      "[('00000001_000.png', 2.0), ('00000001_001.png', 2.0), ('00000001_001.png', 1.0), ('00000001_002.png', 2.0), ('00000001_002.png', 2.0), ('00000002_000.png', 0.0), ('00000003_000.png', 0.0), ('00000003_001.png', 0.0), ('00000003_002.png', 0.0), ('00000003_003.png', 0.0), ('00000003_003.png', 1.0), ('00000003_004.png', 0.0), ('00000003_005.png', 0.0), ('00000003_006.png', 0.0), ('00000003_007.png', 0.0), ('00000004_000.png', 0.0), ('00000004_000.png', 0.0), ('00000005_000.png', 0.0), ('00000005_001.png', 0.0), ('00000005_002.png', 0.0), ('00000005_003.png', 0.0), ('00000005_004.png', 0.0), ('00000005_005.png', 0.0), ('00000005_006.png', 2.0), ('00000005_007.png', 2.0), ('00000005_007.png', 2.0), ('00000006_000.png', 0.0), ('00000007_000.png', 0.0), ('00000008_000.png', 2.0), ('00000008_001.png', 0.0), ('00000008_002.png', 0.0), ('00000009_000.png', 0.0), ('00000010_000.png', 2.0), ('00000011_000.png', 2.0), ('00000011_001.png', 0.0), ('00000011_002.png', 0.0), ('00000011_003.png', 0.0), ('00000011_004.png', 0.0), ('00000011_005.png', 2.0), ('00000011_006.png', 3.0), ('00000011_007.png', 2.0), ('00000011_008.png', 0.0), ('00000012_000.png', 2.0), ('00000012_000.png', 1.0), ('00000013_000.png', 0.0), ('00000013_001.png', 0.0), ('00000013_001.png', 0.5), ('00000013_002.png', 0.0), ('00000013_002.png', 0.5), ('00000013_003.png', 0.0)]\n"
     ]
    }
   ],
   "source": [
    "labels = {'Nodules': 3, 'Masses' : 3, 'Atelectasis' : 3, 'Effusion' : 2, 'Edema' : 2, 'Cardiomegaly':2, 'Pneumonia':2, 'Consolidation':2, 'Infiltration':2, 'Pneumothorax':1}\n",
    "new_labels = []\n",
    "for name, diseases in adjusted_labels:\n",
    "    scores = []\n",
    "    for disease in diseases:\n",
    "        if disease in labels:\n",
    "            scores.append(labels[disease])\n",
    "        else:\n",
    "            scores.append(0)\n",
    "        label_score = np.mean(scores)\n",
    "        new_labels.append((name, label_score))\n",
    "\n",
    "print(new_labels[:50])"
   ]
  },
  {
   "cell_type": "code",
   "execution_count": null,
   "metadata": {},
   "outputs": [],
   "source": []
  }
 ],
 "metadata": {
  "kernelspec": {
   "display_name": "Python 3",
   "language": "python",
   "name": "python3"
  },
  "language_info": {
   "codemirror_mode": {
    "name": "ipython",
    "version": 3
   },
   "file_extension": ".py",
   "mimetype": "text/x-python",
   "name": "python",
   "nbconvert_exporter": "python",
   "pygments_lexer": "ipython3",
   "version": "3.6.4"
  }
 },
 "nbformat": 4,
 "nbformat_minor": 2
}
